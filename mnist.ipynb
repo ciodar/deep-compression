{
 "cells": [
  {
   "cell_type": "code",
   "execution_count": 8,
   "metadata": {
    "collapsed": true
   },
   "outputs": [],
   "source": [
    "import torch\n",
    "import torchvision\n",
    "import torchvision.transforms as transforms\n",
    "from utils import plot_sparsity_matrix,weight_histograms,set_all_seeds\n",
    "from dataset import get_mnist_loader\n",
    "import datetime"
   ]
  },
  {
   "cell_type": "markdown",
   "source": [
    "# Dataset"
   ],
   "metadata": {
    "collapsed": false
   }
  },
  {
   "cell_type": "code",
   "execution_count": 9,
   "outputs": [],
   "source": [
    "transform = transforms.Compose(\n",
    "    [transforms.ToTensor(),\n",
    "     transforms.Normalize((0.5),(0.5))])\n",
    "\n",
    "BATCH_SIZE = 128\n",
    "EPOCHS = 20\n",
    "SEED = 42\n",
    "CLASSES = [0,1,2,3,4,5,6,7,8,9]\n",
    "TIMESTAMP = datetime.datetime.now().strftime(\"%Y%m%d-%H%M%S\")\n",
    "# Try to get GPU device\n",
    "device = torch.device('cuda:0' if torch.cuda.is_available() else 'cpu')\n",
    "set_all_seeds(SEED)\n",
    "\n",
    "trainloader,testloader = get_mnist_loader(transform,BATCH_SIZE)"
   ],
   "metadata": {
    "collapsed": false
   }
  },
  {
   "cell_type": "markdown",
   "source": [
    "Print images from dataset and their labels"
   ],
   "metadata": {
    "collapsed": false
   }
  },
  {
   "cell_type": "code",
   "execution_count": 10,
   "outputs": [
    {
     "name": "stdout",
     "output_type": "stream",
     "text": [
      "torch.Size([128, 1, 28, 28]) torch.Size([128])\n",
      "1 2 8 5\n"
     ]
    },
    {
     "data": {
      "text/plain": "<Figure size 640x480 with 1 Axes>",
      "image/png": "[encoded data removed]"
     },
     "metadata": {},
     "output_type": "display_data"
    }
   ],
   "source": [
    "import matplotlib.pyplot as plt\n",
    "from utils import imshow\n",
    "\n",
    "# get some random training images\n",
    "dataiter = iter(trainloader)\n",
    "images, labels = next(dataiter)\n",
    "print(images.shape, labels.shape)\n",
    "\n",
    "# show images\n",
    "imshow(torchvision.utils.make_grid(images[0:4]))\n",
    "# print labels\n",
    "print(' '.join(f'{labels[j]:1d}' for j in range(4)))"
   ],
   "metadata": {
    "collapsed": false
   }
  },
  {
   "cell_type": "markdown",
   "source": [
    "# LeNet-300-100"
   ],
   "metadata": {
    "collapsed": false
   }
  },
  {
   "cell_type": "code",
   "execution_count": 11,
   "outputs": [
    {
     "name": "stdout",
     "output_type": "stream",
     "text": [
      "cuda:0\n"
     ]
    },
    {
     "data": {
      "text/plain": "LeNet300(\n  (fc1): Linear(in_features=784, out_features=300, bias=True)\n  (fc2): Linear(in_features=300, out_features=100, bias=True)\n  (fc3): Linear(in_features=100, out_features=10, bias=True)\n)"
     },
     "execution_count": 11,
     "metadata": {},
     "output_type": "execute_result"
    }
   ],
   "source": [
    "from models.lenet import LeNet300\n",
    "\n",
    "net = LeNet300(10)\n",
    "\n",
    "# Assuming that we are on a CUDA machine, this should print a CUDA device:\n",
    "print(device)\n",
    "net.to(device)"
   ],
   "metadata": {
    "collapsed": false
   }
  },
  {
   "cell_type": "code",
   "execution_count": 12,
   "outputs": [
    {
     "name": "stderr",
     "output_type": "stream",
     "text": [
      "Exception ignored in: <function _MultiProcessingDataLoaderIter.__del__ at 0x0000012CCFCC2F78>\n",
      "Traceback (most recent call last):\n",
      "  File \"C:\\Users\\Dario\\miniconda3\\envs\\pytorch\\lib\\site-packages\\torch\\utils\\data\\dataloader.py\", line 1466, in __del__\n",
      "    self._shutdown_workers()\n",
      "  File \"C:\\Users\\Dario\\miniconda3\\envs\\pytorch\\lib\\site-packages\\torch\\utils\\data\\dataloader.py\", line 1430, in _shutdown_workers\n",
      "    w.join(timeout=_utils.MP_STATUS_CHECK_INTERVAL)\n",
      "  File \"C:\\Users\\Dario\\miniconda3\\envs\\pytorch\\lib\\multiprocessing\\process.py\", line 140, in join\n",
      "    res = self._popen.wait(timeout)\n",
      "  File \"C:\\Users\\Dario\\miniconda3\\envs\\pytorch\\lib\\multiprocessing\\popen_spawn_win32.py\", line 104, in wait\n",
      "    res = _winapi.WaitForSingleObject(int(self._handle), msecs)\n",
      "KeyboardInterrupt: \n"
     ]
    }
   ],
   "source": [
    "import torch.optim as optim\n",
    "import torch.nn.functional as F\n",
    "import torch.optim.lr_scheduler as sched\n",
    "from train import MyMultiStepLR\n",
    "\n",
    "loss_fn = F.cross_entropy\n",
    "optimizer = optim.SGD(net.parameters(), lr=1e-3,momentum=0.9, weight_decay=1e-5)"
   ],
   "metadata": {
    "collapsed": false
   }
  },
  {
   "cell_type": "code",
   "execution_count": null,
   "outputs": [
    {
     "name": "stdout",
     "output_type": "stream",
     "text": [
      "***Epoch: 001/020 | Batch:0000/0469 | Loss: 2.299\n",
      "***Epoch: 001/020 | Batch:0100/0469 | Loss: 2.104\n",
      "***Epoch: 001/020 | Batch:0200/0469 | Loss: 1.686\n",
      "***Epoch: 001/020 | Batch:0300/0469 | Loss: 1.163\n",
      "***Epoch: 001/020 | Batch:0400/0469 | Loss: 0.803\n",
      "***Epoch: 001/020 | Train. Acc.: 82.003% | Loss: 0.708\n",
      "Epoch: 001/020 | Train accuracy: 82.00% | Validation accuracy: 82.46% | Train loss: 0.708| Validation loss: 0.691| Best Validation (Ep. 000): -inf%\n",
      "Time elapsed: 0.32 min\n",
      "***Epoch: 002/020 | Batch:0000/0469 | Loss: 0.657\n",
      "***Epoch: 002/020 | Batch:0100/0469 | Loss: 0.700\n",
      "***Epoch: 002/020 | Batch:0200/0469 | Loss: 0.490\n",
      "***Epoch: 002/020 | Batch:0300/0469 | Loss: 0.590\n",
      "***Epoch: 002/020 | Batch:0400/0469 | Loss: 0.444\n",
      "***Epoch: 002/020 | Train. Acc.: 87.977% | Loss: 0.437\n",
      "Epoch: 002/020 | Train accuracy: 87.98% | Validation accuracy: 88.31% | Train loss: 0.437| Validation loss: 0.421| Best Validation (Ep. 001): 82.46%\n",
      "Time elapsed: 0.62 min\n",
      "***Epoch: 003/020 | Batch:0000/0469 | Loss: 0.508\n",
      "***Epoch: 003/020 | Batch:0100/0469 | Loss: 0.321\n",
      "***Epoch: 003/020 | Batch:0200/0469 | Loss: 0.407\n",
      "***Epoch: 003/020 | Batch:0300/0469 | Loss: 0.366\n",
      "***Epoch: 003/020 | Batch:0400/0469 | Loss: 0.315\n",
      "***Epoch: 003/020 | Train. Acc.: 89.292% | Loss: 0.371\n",
      "Epoch: 003/020 | Train accuracy: 89.29% | Validation accuracy: 89.66% | Train loss: 0.371| Validation loss: 0.357| Best Validation (Ep. 002): 88.31%\n",
      "Time elapsed: 0.91 min\n",
      "***Epoch: 004/020 | Batch:0000/0469 | Loss: 0.339\n",
      "***Epoch: 004/020 | Batch:0100/0469 | Loss: 0.347\n",
      "***Epoch: 004/020 | Batch:0200/0469 | Loss: 0.319\n",
      "***Epoch: 004/020 | Batch:0300/0469 | Loss: 0.475\n",
      "***Epoch: 004/020 | Batch:0400/0469 | Loss: 0.366\n",
      "***Epoch: 004/020 | Train. Acc.: 90.278% | Loss: 0.339\n",
      "Epoch: 004/020 | Train accuracy: 90.28% | Validation accuracy: 90.40% | Train loss: 0.339| Validation loss: 0.327| Best Validation (Ep. 003): 89.66%\n",
      "Time elapsed: 1.20 min\n",
      "***Epoch: 005/020 | Batch:0000/0469 | Loss: 0.356\n",
      "***Epoch: 005/020 | Batch:0100/0469 | Loss: 0.255\n",
      "***Epoch: 005/020 | Batch:0200/0469 | Loss: 0.336\n",
      "***Epoch: 005/020 | Batch:0300/0469 | Loss: 0.653\n",
      "***Epoch: 005/020 | Batch:0400/0469 | Loss: 0.381\n",
      "***Epoch: 005/020 | Train. Acc.: 90.830% | Loss: 0.316\n",
      "Epoch: 005/020 | Train accuracy: 90.83% | Validation accuracy: 91.04% | Train loss: 0.316| Validation loss: 0.307| Best Validation (Ep. 004): 90.40%\n",
      "Time elapsed: 1.48 min\n",
      "***Epoch: 006/020 | Batch:0000/0469 | Loss: 0.303\n",
      "***Epoch: 006/020 | Batch:0100/0469 | Loss: 0.348\n",
      "***Epoch: 006/020 | Batch:0200/0469 | Loss: 0.237\n",
      "***Epoch: 006/020 | Batch:0300/0469 | Loss: 0.338\n",
      "***Epoch: 006/020 | Batch:0400/0469 | Loss: 0.375\n",
      "***Epoch: 006/020 | Train. Acc.: 91.257% | Loss: 0.300\n",
      "Epoch: 006/020 | Train accuracy: 91.26% | Validation accuracy: 91.47% | Train loss: 0.300| Validation loss: 0.291| Best Validation (Ep. 005): 91.04%\n",
      "Time elapsed: 1.77 min\n",
      "***Epoch: 007/020 | Batch:0000/0469 | Loss: 0.274\n",
      "***Epoch: 007/020 | Batch:0100/0469 | Loss: 0.505\n",
      "***Epoch: 007/020 | Batch:0200/0469 | Loss: 0.334\n",
      "***Epoch: 007/020 | Batch:0300/0469 | Loss: 0.215\n",
      "***Epoch: 007/020 | Batch:0400/0469 | Loss: 0.221\n",
      "***Epoch: 007/020 | Train. Acc.: 91.590% | Loss: 0.290\n",
      "Epoch: 007/020 | Train accuracy: 91.59% | Validation accuracy: 91.84% | Train loss: 0.290| Validation loss: 0.281| Best Validation (Ep. 006): 91.47%\n",
      "Time elapsed: 2.05 min\n",
      "***Epoch: 008/020 | Batch:0000/0469 | Loss: 0.274\n",
      "***Epoch: 008/020 | Batch:0100/0469 | Loss: 0.422\n",
      "***Epoch: 008/020 | Batch:0200/0469 | Loss: 0.263\n",
      "***Epoch: 008/020 | Batch:0300/0469 | Loss: 0.347\n",
      "***Epoch: 008/020 | Batch:0400/0469 | Loss: 0.348\n",
      "***Epoch: 008/020 | Train. Acc.: 92.028% | Loss: 0.273\n",
      "Epoch: 008/020 | Train accuracy: 92.03% | Validation accuracy: 92.29% | Train loss: 0.273| Validation loss: 0.267| Best Validation (Ep. 007): 91.84%\n",
      "Time elapsed: 2.33 min\n",
      "***Epoch: 009/020 | Batch:0000/0469 | Loss: 0.275\n",
      "***Epoch: 009/020 | Batch:0100/0469 | Loss: 0.234\n",
      "***Epoch: 009/020 | Batch:0200/0469 | Loss: 0.269\n",
      "***Epoch: 009/020 | Batch:0300/0469 | Loss: 0.277\n",
      "***Epoch: 009/020 | Batch:0400/0469 | Loss: 0.248\n",
      "***Epoch: 009/020 | Train. Acc.: 92.508% | Loss: 0.259\n",
      "Epoch: 009/020 | Train accuracy: 92.51% | Validation accuracy: 92.78% | Train loss: 0.259| Validation loss: 0.256| Best Validation (Ep. 008): 92.29%\n",
      "Time elapsed: 2.61 min\n",
      "***Epoch: 010/020 | Batch:0000/0469 | Loss: 0.356\n",
      "***Epoch: 010/020 | Batch:0100/0469 | Loss: 0.294\n",
      "***Epoch: 010/020 | Batch:0200/0469 | Loss: 0.266\n",
      "***Epoch: 010/020 | Batch:0300/0469 | Loss: 0.343\n",
      "***Epoch: 010/020 | Batch:0400/0469 | Loss: 0.254\n",
      "***Epoch: 010/020 | Train. Acc.: 92.793% | Loss: 0.250\n",
      "Epoch: 010/020 | Train accuracy: 92.79% | Validation accuracy: 92.87% | Train loss: 0.250| Validation loss: 0.247| Best Validation (Ep. 009): 92.78%\n",
      "Time elapsed: 2.99 min\n",
      "***Epoch: 011/020 | Batch:0000/0469 | Loss: 0.363\n",
      "***Epoch: 011/020 | Batch:0100/0469 | Loss: 0.144\n",
      "***Epoch: 011/020 | Batch:0200/0469 | Loss: 0.284\n",
      "***Epoch: 011/020 | Batch:0300/0469 | Loss: 0.248\n",
      "***Epoch: 011/020 | Batch:0400/0469 | Loss: 0.166\n",
      "***Epoch: 011/020 | Train. Acc.: 93.200% | Loss: 0.237\n",
      "Epoch: 011/020 | Train accuracy: 93.20% | Validation accuracy: 93.26% | Train loss: 0.237| Validation loss: 0.236| Best Validation (Ep. 010): 92.87%\n",
      "Time elapsed: 3.40 min\n",
      "***Epoch: 012/020 | Batch:0000/0469 | Loss: 0.147\n",
      "***Epoch: 012/020 | Batch:0100/0469 | Loss: 0.263\n",
      "***Epoch: 012/020 | Batch:0200/0469 | Loss: 0.328\n",
      "***Epoch: 012/020 | Batch:0300/0469 | Loss: 0.274\n",
      "***Epoch: 012/020 | Batch:0400/0469 | Loss: 0.203\n",
      "***Epoch: 012/020 | Train. Acc.: 93.402% | Loss: 0.228\n",
      "Epoch: 012/020 | Train accuracy: 93.40% | Validation accuracy: 93.43% | Train loss: 0.228| Validation loss: 0.227| Best Validation (Ep. 011): 93.26%\n",
      "Time elapsed: 3.86 min\n",
      "***Epoch: 013/020 | Batch:0000/0469 | Loss: 0.251\n",
      "***Epoch: 013/020 | Batch:0100/0469 | Loss: 0.183\n",
      "***Epoch: 013/020 | Batch:0200/0469 | Loss: 0.149\n"
     ]
    }
   ],
   "source": [
    "from torch.utils.tensorboard import SummaryWriter\n",
    "from train import training_loop\n",
    "\n",
    "writer = SummaryWriter('runs/mnist/lenet-300-100/%s' % TIMESTAMP)\n",
    "\n",
    "loss, train_acc, val_acc = training_loop(EPOCHS,net,optimizer,device,trainloader,testloader,loss_fn,100,\n",
    "                                         None,'checkpoints/mnist-lenet300-100.pth',writer)\n",
    "\n"
   ],
   "metadata": {
    "collapsed": false,
    "pycharm": {
     "is_executing": true
    }
   }
  },
  {
   "cell_type": "code",
   "execution_count": null,
   "outputs": [],
   "source": [
    "# visualization loss\n",
    "plt.plot(loss)\n",
    "plt.xlabel(\"Number of iteration\")\n",
    "plt.ylabel(\"Loss\")\n",
    "plt.title(\"CNN: Loss vs Number of iteration\")\n",
    "plt.show()\n",
    "\n",
    "# visualization accuracy\n",
    "plt.plot(train_acc,color = \"red\")\n",
    "plt.plot(val_acc,color = \"blue\")\n",
    "plt.xlabel(\"Number of iteration\")\n",
    "plt.ylabel(\"Accuracy\")\n",
    "plt.title(\"CNN: Accuracy vs Number of iteration\")\n",
    "plt.show()"
   ],
   "metadata": {
    "collapsed": false,
    "pycharm": {
     "is_executing": true
    }
   }
  },
  {
   "cell_type": "code",
   "execution_count": null,
   "outputs": [],
   "source": [
    "from prune import threshold_prune\n",
    "\n",
    "s = 2\n",
    "threshold_prune(net,s)\n",
    "\n",
    "writer = SummaryWriter('runs/mnist/lenet-300-100-pruned/%s' % TIMESTAMP)\n",
    "\n",
    "weight_histograms(writer,None,net)\n",
    "\n",
    "torch.save(net.state_dict(), 'checkpoints/mnist-lenet300-100-pruned.pth')\n",
    "plot_sparsity_matrix(net)"
   ],
   "metadata": {
    "collapsed": false,
    "pycharm": {
     "is_executing": true
    }
   }
  },
  {
   "cell_type": "code",
   "execution_count": null,
   "outputs": [],
   "source": [
    "from train import evaluate\n",
    "\n",
    "net.load_state_dict(torch.load('checkpoints/mnist-lenet300-100-pruned.pth'))\n",
    "net.to(device)\n",
    "\n",
    "valid_acc, valid_loss = evaluate(net, testloader, device, loss_fn)\n",
    "\n",
    "print('Accuracy after pruning: %.3f%% | Loss: %.3f' % (\n",
    "        valid_acc, valid_loss))\n",
    "\n",
    "writer = SummaryWriter('runs/mnist/lenet-300-100-retrained/%s' % TIMESTAMP)\n",
    "optimizer = optim.SGD(net.parameters(), lr=1e-3,momentum=0.9,weight_decay=1e-5)\n",
    "\n",
    "\n",
    "loss, train_acc, val_acc = training_loop(EPOCHS,net,optimizer,device,trainloader,testloader,loss_fn,100,\n",
    "                                         None,'checkpoints/mnist_lenet300_retrained.pth',writer)\n",
    "\n",
    "plot_sparsity_matrix(net)"
   ],
   "metadata": {
    "collapsed": false,
    "pycharm": {
     "is_executing": true
    }
   }
  },
  {
   "cell_type": "markdown",
   "source": [
    "# LeNet-5\n",
    "\n",
    "Images need to be rescaled to size 32x32 as described in LeCun et al. 1998"
   ],
   "metadata": {
    "collapsed": false
   }
  },
  {
   "cell_type": "code",
   "execution_count": null,
   "outputs": [],
   "source": [
    "transform = transforms.Compose(\n",
    "    [transforms.ToTensor(),\n",
    "     transforms.Normalize((0.5),(0.5)),\n",
    "     transforms.Resize(32)])\n",
    "# Load datasets\n",
    "trainloader,testloader = get_mnist_loader(transform,BATCH_SIZE)"
   ],
   "metadata": {
    "collapsed": false,
    "pycharm": {
     "is_executing": true
    }
   }
  },
  {
   "cell_type": "code",
   "execution_count": null,
   "outputs": [],
   "source": [
    "import matplotlib.pyplot as plt\n",
    "\n",
    "# get some random training images\n",
    "dataiter = iter(trainloader)\n",
    "images, labels = next(dataiter)\n",
    "print(images.shape, labels.shape)\n",
    "\n",
    "# show images\n",
    "imshow(torchvision.utils.make_grid(images[0:4]))\n",
    "# print labels\n",
    "print(' '.join(f'{labels[j]:1d}' for j in range(4)))"
   ],
   "metadata": {
    "collapsed": false,
    "pycharm": {
     "is_executing": true
    }
   }
  },
  {
   "cell_type": "code",
   "execution_count": null,
   "outputs": [],
   "source": [
    "from models.lenet import LeNet5\n",
    "\n",
    "net = LeNet5(10)\n",
    "# Try to get GPU device\n",
    "device = torch.device('cuda:0' if torch.cuda.is_available() else 'cpu')\n",
    "# Assuming that we are on a CUDA machine, this should print a CUDA device:\n",
    "print(device)\n",
    "net.to(device)"
   ],
   "metadata": {
    "collapsed": false,
    "pycharm": {
     "is_executing": true
    }
   }
  },
  {
   "cell_type": "code",
   "execution_count": null,
   "outputs": [],
   "source": [
    "from train import training_loop\n",
    "\n",
    "loss_fn = F.cross_entropy\n",
    "optimizer = optim.SGD(net.parameters(), lr=1e-3,momentum=0.9,weight_decay=1e-5)\n",
    "\n",
    "lrs = MyMultiStepLR({0:5e-4,2:2e-4,5:1e-4,8:5e-5,12:1e-5})\n",
    "# scheduler = sched.LambdaLR(optimizer,  lrs.get_lr,last_epoch=-1,verbose=True)\n",
    "\n",
    "writer = SummaryWriter('runs/mnist_lenet-5/%s' % TIMESTAMP)\n",
    "\n",
    "loss, train_acc, val_acc = training_loop(EPOCHS,net,optimizer,device,trainloader,testloader,loss_fn,100,None\n",
    "                                         ,'checkpoints/mnist_lenet5.pth',writer)"
   ],
   "metadata": {
    "collapsed": false,
    "pycharm": {
     "is_executing": true
    }
   }
  },
  {
   "cell_type": "code",
   "execution_count": null,
   "outputs": [],
   "source": [
    "# visualization loss\n",
    "plt.plot(loss)\n",
    "plt.xlabel(\"Number of iteration\")\n",
    "plt.ylabel(\"Loss\")\n",
    "plt.title(\"CNN: Loss vs Number of iteration\")\n",
    "plt.show()\n",
    "\n",
    "# visualization accuracy\n",
    "plt.plot(train_acc,color = \"red\")\n",
    "plt.plot(val_acc,color = \"blue\")\n",
    "plt.xlabel(\"Number of iteration\")\n",
    "plt.ylabel(\"Accuracy\")\n",
    "plt.title(\"CNN: Accuracy vs Number of iteration\")\n",
    "plt.show()"
   ],
   "metadata": {
    "collapsed": false,
    "pycharm": {
     "is_executing": true
    }
   }
  },
  {
   "cell_type": "code",
   "execution_count": null,
   "outputs": [],
   "source": [
    "net = LeNet5(10)\n",
    "net.load_state_dict(torch.load('checkpoints/mnist_lenet5.pth'))\n",
    "net.to(device)\n",
    "\n",
    "s = 1\n",
    "threshold_prune(net,s)\n",
    "\n",
    "writer = SummaryWriter('runs/mnist/lenet5-pruned/%s' % TIMESTAMP)\n",
    "\n",
    "weight_histograms(writer,None,net)\n",
    "torch.save(net.state_dict(), 'checkpoints/mnist_lenet5_pruned.pth')\n",
    "\n",
    "valid_acc, valid_loss = evaluate(net, testloader, device, loss_fn)\n",
    "\n",
    "print('Accuracy after pruning: %.3f%% | Loss: %.3f' % (\n",
    "        valid_acc, valid_loss))\n",
    "\n",
    "optimizer = optim.SGD(net.parameters(), lr=1e-3,momentum=0.9,weight_decay=1e-5)\n",
    "writer = SummaryWriter('runs/mnist/lenet5-retrained/%s' % TIMESTAMP)\n",
    "\n",
    "loss, train_acc, val_acc = training_loop(EPOCHS,net,optimizer,device,trainloader,testloader,loss_fn,100,\n",
    "                                         None,'checkpoints/mnist_lenet5_retrained.pth',writer)"
   ],
   "metadata": {
    "collapsed": false,
    "pycharm": {
     "is_executing": true
    }
   }
  }
 ],
 "metadata": {
  "kernelspec": {
   "display_name": "Python 3",
   "language": "python",
   "name": "python3"
  },
  "language_info": {
   "codemirror_mode": {
    "name": "ipython",
    "version": 2
   },
   "file_extension": ".py",
   "mimetype": "text/x-python",
   "name": "python",
   "nbconvert_exporter": "python",
   "pygments_lexer": "ipython2",
   "version": "2.7.6"
  }
 },
 "nbformat": 4,
 "nbformat_minor": 0
}
