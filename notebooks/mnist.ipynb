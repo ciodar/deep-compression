{
 "cells": [
  {
   "cell_type": "code",
   "execution_count": 1,
   "metadata": {
    "collapsed": true
   },
   "outputs": [],
   "source": [
    "import torch\n",
    "import torchvision\n",
    "import torchvision.transforms as transforms\n",
    "from utils import plot_sparsity_matrix,weight_histograms,set_all_seeds\n",
    "from dataset import get_mnist_loader\n",
    "from pruning import threshold_prune,save_sparse_weights,count_nonzero_weights\n",
    "import datetime\n",
    "import numpy as np"
   ]
  },
  {
   "cell_type": "markdown",
   "source": [
    "# Dataset\n",
    "\n",
    "# Configuration"
   ],
   "metadata": {
    "collapsed": false
   }
  },
  {
   "cell_type": "code",
   "execution_count": 2,
   "outputs": [
    {
     "name": "stdout",
     "output_type": "stream",
     "text": [
      "Downloading http://yann.lecun.com/exdb/mnist/train-images-idx3-ubyte.gz\n",
      "Downloading http://yann.lecun.com/exdb/mnist/train-images-idx3-ubyte.gz to ./data\\MNIST\\raw\\train-images-idx3-ubyte.gz\n"
     ]
    },
    {
     "name": "stderr",
     "output_type": "stream",
     "text": [
      "100.0%\n"
     ]
    },
    {
     "name": "stdout",
     "output_type": "stream",
     "text": [
      "Extracting ./data\\MNIST\\raw\\train-images-idx3-ubyte.gz to ./data\\MNIST\\raw\n",
      "\n",
      "Downloading http://yann.lecun.com/exdb/mnist/train-labels-idx1-ubyte.gz\n",
      "Downloading http://yann.lecun.com/exdb/mnist/train-labels-idx1-ubyte.gz to ./data\\MNIST\\raw\\train-labels-idx1-ubyte.gz\n"
     ]
    },
    {
     "name": "stderr",
     "output_type": "stream",
     "text": [
      "100.0%\n"
     ]
    },
    {
     "name": "stdout",
     "output_type": "stream",
     "text": [
      "Extracting ./data\\MNIST\\raw\\train-labels-idx1-ubyte.gz to ./data\\MNIST\\raw\n",
      "\n",
      "Downloading http://yann.lecun.com/exdb/mnist/t10k-images-idx3-ubyte.gz\n",
      "Downloading http://yann.lecun.com/exdb/mnist/t10k-images-idx3-ubyte.gz to ./data\\MNIST\\raw\\t10k-images-idx3-ubyte.gz\n"
     ]
    },
    {
     "name": "stderr",
     "output_type": "stream",
     "text": [
      "100.0%\n"
     ]
    },
    {
     "name": "stdout",
     "output_type": "stream",
     "text": [
      "Extracting ./data\\MNIST\\raw\\t10k-images-idx3-ubyte.gz to ./data\\MNIST\\raw\n",
      "\n",
      "Downloading http://yann.lecun.com/exdb/mnist/t10k-labels-idx1-ubyte.gz\n",
      "Downloading http://yann.lecun.com/exdb/mnist/t10k-labels-idx1-ubyte.gz to ./data\\MNIST\\raw\\t10k-labels-idx1-ubyte.gz\n"
     ]
    },
    {
     "name": "stderr",
     "output_type": "stream",
     "text": [
      "100.0%"
     ]
    },
    {
     "name": "stdout",
     "output_type": "stream",
     "text": [
      "Extracting ./data\\MNIST\\raw\\t10k-labels-idx1-ubyte.gz to ./data\\MNIST\\raw\n",
      "\n"
     ]
    },
    {
     "name": "stderr",
     "output_type": "stream",
     "text": [
      "\n"
     ]
    }
   ],
   "source": [
    "transform = transforms.Compose(\n",
    "    [transforms.ToTensor(),\n",
    "     transforms.Normalize((0.5),(0.5))])\n",
    "\n",
    "BATCH_SIZE = 128\n",
    "EPOCHS = 20\n",
    "LR = 1e-3\n",
    "MU = 0.9\n",
    "LAMBDA = 1e-2\n",
    "S = 2\n",
    "\n",
    "SEED = 42\n",
    "CLASSES = [0,1,2,3,4,5,6,7,8,9]\n",
    "TIMESTAMP = datetime.datetime.now().strftime(\"%Y%m%d-%H%M%S\")\n",
    "# Try to get GPU device\n",
    "device = torch.device('cuda:0' if torch.cuda.is_available() else 'cpu')\n",
    "checkpoint_path = '../checkpoints/'\n",
    "set_all_seeds(SEED)\n",
    "\n",
    "trainloader,testloader = get_mnist_loader(transform,BATCH_SIZE)"
   ],
   "metadata": {
    "collapsed": false
   }
  },
  {
   "cell_type": "markdown",
   "source": [
    "Print images from dataset and their labels"
   ],
   "metadata": {
    "collapsed": false
   }
  },
  {
   "cell_type": "code",
   "execution_count": 3,
   "outputs": [
    {
     "name": "stdout",
     "output_type": "stream",
     "text": [
      "torch.Size([128, 1, 28, 28]) torch.Size([128])\n",
      "1 2 8 5\n"
     ]
    },
    {
     "data": {
      "text/plain": "<Figure size 640x480 with 1 Axes>",
      "image/png": "[encoded data removed]"
     },
     "metadata": {},
     "output_type": "display_data"
    }
   ],
   "source": [
    "import matplotlib.pyplot as plt\n",
    "from utils import imshow\n",
    "\n",
    "# get some random training images\n",
    "dataiter = iter(trainloader)\n",
    "images, labels = next(dataiter)\n",
    "print(images.shape, labels.shape)\n",
    "\n",
    "# show images\n",
    "imshow(torchvision.utils.make_grid(images[0:4]))\n",
    "# print labels\n",
    "print(' '.join(f'{labels[j]:1d}' for j in range(4)))"
   ],
   "metadata": {
    "collapsed": false
   }
  },
  {
   "cell_type": "markdown",
   "source": [
    "# LeNet-300-100\n",
    "\n",
    "LeNet-300-100 is a Fully-Connected neural network, presented in [[1](#1)].\n",
    "It is composed by two hidden layers, with respectively 300 and 100 units."
   ],
   "metadata": {
    "collapsed": false
   }
  },
  {
   "cell_type": "code",
   "execution_count": 4,
   "outputs": [
    {
     "name": "stdout",
     "output_type": "stream",
     "text": [
      "cuda:0\n"
     ]
    },
    {
     "data": {
      "text/plain": "LeNet300(\n  (fc1): Linear(in_features=784, out_features=300, bias=True)\n  (fc2): Linear(in_features=300, out_features=100, bias=True)\n  (fc3): Linear(in_features=100, out_features=10, bias=True)\n)"
     },
     "execution_count": 4,
     "metadata": {},
     "output_type": "execute_result"
    }
   ],
   "source": [
    "from models.lenet import LeNet300\n",
    "\n",
    "net = LeNet300(10)\n",
    "\n",
    "# Assuming that we are on a CUDA machine, this should print a CUDA device:\n",
    "print(device)\n",
    "net.to(device)"
   ],
   "metadata": {
    "collapsed": false
   }
  },
  {
   "cell_type": "code",
   "execution_count": 5,
   "outputs": [],
   "source": [
    "import torch.optim as optim\n",
    "import torch.nn.functional as F\n",
    "import torch.optim.lr_scheduler as sched\n",
    "from train import MyMultiStepLR\n",
    "\n",
    "loss_fn = F.cross_entropy\n",
    "optimizer = optim.SGD(net.parameters(), lr=LR,momentum=MU, weight_decay=LAMBDA)"
   ],
   "metadata": {
    "collapsed": false
   }
  },
  {
   "cell_type": "code",
   "execution_count": 6,
   "outputs": [
    {
     "name": "stdout",
     "output_type": "stream",
     "text": [
      "***Epoch: 001/020 | Batch:0000/0469 | Loss: 2.299\n",
      "***Epoch: 001/020 | Batch:0100/0469 | Loss: 2.109\n",
      "***Epoch: 001/020 | Batch:0200/0469 | Loss: 1.716\n",
      "***Epoch: 001/020 | Batch:0300/0469 | Loss: 1.208\n",
      "***Epoch: 001/020 | Batch:0400/0469 | Loss: 0.843\n",
      "***Epoch: 001/020 | Train. Acc.: 81.440% | Loss: 0.743\n",
      "Epoch: 001/020 | Train accuracy: 81.44% | Validation accuracy: 81.81% | Train loss: 0.743| Validation loss: 0.726| Best Validation (Ep. 000): -inf%\n"
     ]
    },
    {
     "ename": "RuntimeError",
     "evalue": "Parent directory checkpoints does not exist.",
     "output_type": "error",
     "traceback": [
      "\u001B[1;31m---------------------------------------------------------------------------\u001B[0m",
      "\u001B[1;31mRuntimeError\u001B[0m                              Traceback (most recent call last)",
      "\u001B[1;32m~\\AppData\\Local\\Temp\\ipykernel_22160\\2480431651.py\u001B[0m in \u001B[0;36m<module>\u001B[1;34m\u001B[0m\n\u001B[0;32m      5\u001B[0m \u001B[1;33m\u001B[0m\u001B[0m\n\u001B[0;32m      6\u001B[0m loss, train_acc, val_acc = training_loop(EPOCHS,net,optimizer,device,trainloader,testloader,loss_fn,100,\n\u001B[1;32m----> 7\u001B[1;33m                                          None,'checkpoints/mnist-lenet300-100.pth',writer)\n\u001B[0m\u001B[0;32m      8\u001B[0m \u001B[1;33m\u001B[0m\u001B[0m\n\u001B[0;32m      9\u001B[0m \u001B[0mwriter\u001B[0m\u001B[1;33m.\u001B[0m\u001B[0madd_hparams\u001B[0m\u001B[1;33m(\u001B[0m\u001B[1;33m{\u001B[0m\u001B[1;34m'epochs'\u001B[0m\u001B[1;33m:\u001B[0m\u001B[0mEPOCHS\u001B[0m\u001B[1;33m,\u001B[0m\u001B[1;34m'learning rate'\u001B[0m\u001B[1;33m:\u001B[0m\u001B[0mLR\u001B[0m\u001B[1;33m,\u001B[0m\u001B[1;34m'lambda'\u001B[0m\u001B[1;33m:\u001B[0m\u001B[0mLAMBDA\u001B[0m\u001B[1;33m,\u001B[0m\u001B[1;34m'momentum'\u001B[0m\u001B[1;33m:\u001B[0m\u001B[0mMU\u001B[0m\u001B[1;33m}\u001B[0m\u001B[1;33m,\u001B[0m\u001B[1;33m{\u001B[0m\u001B[1;34m'loss'\u001B[0m\u001B[1;33m:\u001B[0m\u001B[0mnp\u001B[0m\u001B[1;33m.\u001B[0m\u001B[0marray\u001B[0m\u001B[1;33m(\u001B[0m\u001B[0mloss\u001B[0m\u001B[1;33m)\u001B[0m\u001B[1;33m.\u001B[0m\u001B[0mmin\u001B[0m\u001B[1;33m(\u001B[0m\u001B[1;33m)\u001B[0m\u001B[1;33m,\u001B[0m\u001B[1;34m'train_accuracy'\u001B[0m\u001B[1;33m:\u001B[0m\u001B[0mnp\u001B[0m\u001B[1;33m.\u001B[0m\u001B[0marray\u001B[0m\u001B[1;33m(\u001B[0m\u001B[0mtrain_acc\u001B[0m\u001B[1;33m)\u001B[0m\u001B[1;33m.\u001B[0m\u001B[0mmax\u001B[0m\u001B[1;33m(\u001B[0m\u001B[1;33m)\u001B[0m\u001B[1;33m,\u001B[0m\u001B[1;34m'validation accuracy'\u001B[0m\u001B[1;33m:\u001B[0m\u001B[0mnp\u001B[0m\u001B[1;33m.\u001B[0m\u001B[0marray\u001B[0m\u001B[1;33m(\u001B[0m\u001B[0mval_acc\u001B[0m\u001B[1;33m)\u001B[0m\u001B[1;33m.\u001B[0m\u001B[0mmax\u001B[0m\u001B[1;33m(\u001B[0m\u001B[1;33m)\u001B[0m\u001B[1;33m,\u001B[0m\u001B[1;34m'compression'\u001B[0m\u001B[1;33m:\u001B[0m\u001B[1;36m1\u001B[0m\u001B[1;33m}\u001B[0m\u001B[1;33m)\u001B[0m\u001B[1;33m\u001B[0m\u001B[1;33m\u001B[0m\u001B[0m\n",
      "\u001B[1;32m~\\DataspellProjects\\model-compression\\train.py\u001B[0m in \u001B[0;36mtraining_loop\u001B[1;34m(epochs, model, optimizer, device, train_loader, valid_loader, loss_fn, logging_interval, scheduler, checkpoint_path, writer)\u001B[0m\n\u001B[0;32m     85\u001B[0m                 \u001B[0mbest_valid_acc\u001B[0m\u001B[1;33m,\u001B[0m \u001B[0mbest_epoch\u001B[0m \u001B[1;33m=\u001B[0m \u001B[0mvalid_acc\u001B[0m\u001B[1;33m,\u001B[0m \u001B[0mepoch\u001B[0m \u001B[1;33m+\u001B[0m \u001B[1;36m1\u001B[0m\u001B[1;33m\u001B[0m\u001B[1;33m\u001B[0m\u001B[0m\n\u001B[0;32m     86\u001B[0m                 \u001B[1;32mif\u001B[0m \u001B[0mcheckpoint_path\u001B[0m\u001B[1;33m:\u001B[0m\u001B[1;33m\u001B[0m\u001B[1;33m\u001B[0m\u001B[0m\n\u001B[1;32m---> 87\u001B[1;33m                     \u001B[0mtorch\u001B[0m\u001B[1;33m.\u001B[0m\u001B[0msave\u001B[0m\u001B[1;33m(\u001B[0m\u001B[0mmodel\u001B[0m\u001B[1;33m.\u001B[0m\u001B[0mstate_dict\u001B[0m\u001B[1;33m(\u001B[0m\u001B[1;33m)\u001B[0m\u001B[1;33m,\u001B[0m \u001B[0mcheckpoint_path\u001B[0m\u001B[1;33m)\u001B[0m\u001B[1;33m\u001B[0m\u001B[1;33m\u001B[0m\u001B[0m\n\u001B[0m\u001B[0;32m     88\u001B[0m \u001B[1;33m\u001B[0m\u001B[0m\n\u001B[0;32m     89\u001B[0m         \u001B[0mprint\u001B[0m\u001B[1;33m(\u001B[0m\u001B[1;34m'Time elapsed: %.2f min'\u001B[0m \u001B[1;33m%\u001B[0m \u001B[1;33m(\u001B[0m\u001B[1;33m(\u001B[0m\u001B[0mtime\u001B[0m\u001B[1;33m.\u001B[0m\u001B[0mtime\u001B[0m\u001B[1;33m(\u001B[0m\u001B[1;33m)\u001B[0m \u001B[1;33m-\u001B[0m \u001B[0mstart_time\u001B[0m\u001B[1;33m)\u001B[0m \u001B[1;33m/\u001B[0m \u001B[1;36m60\u001B[0m\u001B[1;33m)\u001B[0m\u001B[1;33m)\u001B[0m\u001B[1;33m\u001B[0m\u001B[1;33m\u001B[0m\u001B[0m\n",
      "\u001B[1;32m~\\miniconda3\\envs\\pytorch\\lib\\site-packages\\torch\\serialization.py\u001B[0m in \u001B[0;36msave\u001B[1;34m(obj, f, pickle_module, pickle_protocol, _use_new_zipfile_serialization)\u001B[0m\n\u001B[0;32m    420\u001B[0m \u001B[1;33m\u001B[0m\u001B[0m\n\u001B[0;32m    421\u001B[0m     \u001B[1;32mif\u001B[0m \u001B[0m_use_new_zipfile_serialization\u001B[0m\u001B[1;33m:\u001B[0m\u001B[1;33m\u001B[0m\u001B[1;33m\u001B[0m\u001B[0m\n\u001B[1;32m--> 422\u001B[1;33m         \u001B[1;32mwith\u001B[0m \u001B[0m_open_zipfile_writer\u001B[0m\u001B[1;33m(\u001B[0m\u001B[0mf\u001B[0m\u001B[1;33m)\u001B[0m \u001B[1;32mas\u001B[0m \u001B[0mopened_zipfile\u001B[0m\u001B[1;33m:\u001B[0m\u001B[1;33m\u001B[0m\u001B[1;33m\u001B[0m\u001B[0m\n\u001B[0m\u001B[0;32m    423\u001B[0m             \u001B[0m_save\u001B[0m\u001B[1;33m(\u001B[0m\u001B[0mobj\u001B[0m\u001B[1;33m,\u001B[0m \u001B[0mopened_zipfile\u001B[0m\u001B[1;33m,\u001B[0m \u001B[0mpickle_module\u001B[0m\u001B[1;33m,\u001B[0m \u001B[0mpickle_protocol\u001B[0m\u001B[1;33m)\u001B[0m\u001B[1;33m\u001B[0m\u001B[1;33m\u001B[0m\u001B[0m\n\u001B[0;32m    424\u001B[0m             \u001B[1;32mreturn\u001B[0m\u001B[1;33m\u001B[0m\u001B[1;33m\u001B[0m\u001B[0m\n",
      "\u001B[1;32m~\\miniconda3\\envs\\pytorch\\lib\\site-packages\\torch\\serialization.py\u001B[0m in \u001B[0;36m_open_zipfile_writer\u001B[1;34m(name_or_buffer)\u001B[0m\n\u001B[0;32m    307\u001B[0m     \u001B[1;32melse\u001B[0m\u001B[1;33m:\u001B[0m\u001B[1;33m\u001B[0m\u001B[1;33m\u001B[0m\u001B[0m\n\u001B[0;32m    308\u001B[0m         \u001B[0mcontainer\u001B[0m \u001B[1;33m=\u001B[0m \u001B[0m_open_zipfile_writer_buffer\u001B[0m\u001B[1;33m\u001B[0m\u001B[1;33m\u001B[0m\u001B[0m\n\u001B[1;32m--> 309\u001B[1;33m     \u001B[1;32mreturn\u001B[0m \u001B[0mcontainer\u001B[0m\u001B[1;33m(\u001B[0m\u001B[0mname_or_buffer\u001B[0m\u001B[1;33m)\u001B[0m\u001B[1;33m\u001B[0m\u001B[1;33m\u001B[0m\u001B[0m\n\u001B[0m\u001B[0;32m    310\u001B[0m \u001B[1;33m\u001B[0m\u001B[0m\n\u001B[0;32m    311\u001B[0m \u001B[1;33m\u001B[0m\u001B[0m\n",
      "\u001B[1;32m~\\miniconda3\\envs\\pytorch\\lib\\site-packages\\torch\\serialization.py\u001B[0m in \u001B[0;36m__init__\u001B[1;34m(self, name)\u001B[0m\n\u001B[0;32m    285\u001B[0m \u001B[1;32mclass\u001B[0m \u001B[0m_open_zipfile_writer_file\u001B[0m\u001B[1;33m(\u001B[0m\u001B[0m_opener\u001B[0m\u001B[1;33m)\u001B[0m\u001B[1;33m:\u001B[0m\u001B[1;33m\u001B[0m\u001B[1;33m\u001B[0m\u001B[0m\n\u001B[0;32m    286\u001B[0m     \u001B[1;32mdef\u001B[0m \u001B[0m__init__\u001B[0m\u001B[1;33m(\u001B[0m\u001B[0mself\u001B[0m\u001B[1;33m,\u001B[0m \u001B[0mname\u001B[0m\u001B[1;33m)\u001B[0m \u001B[1;33m->\u001B[0m \u001B[1;32mNone\u001B[0m\u001B[1;33m:\u001B[0m\u001B[1;33m\u001B[0m\u001B[1;33m\u001B[0m\u001B[0m\n\u001B[1;32m--> 287\u001B[1;33m         \u001B[0msuper\u001B[0m\u001B[1;33m(\u001B[0m\u001B[0m_open_zipfile_writer_file\u001B[0m\u001B[1;33m,\u001B[0m \u001B[0mself\u001B[0m\u001B[1;33m)\u001B[0m\u001B[1;33m.\u001B[0m\u001B[0m__init__\u001B[0m\u001B[1;33m(\u001B[0m\u001B[0mtorch\u001B[0m\u001B[1;33m.\u001B[0m\u001B[0m_C\u001B[0m\u001B[1;33m.\u001B[0m\u001B[0mPyTorchFileWriter\u001B[0m\u001B[1;33m(\u001B[0m\u001B[0mstr\u001B[0m\u001B[1;33m(\u001B[0m\u001B[0mname\u001B[0m\u001B[1;33m)\u001B[0m\u001B[1;33m)\u001B[0m\u001B[1;33m)\u001B[0m\u001B[1;33m\u001B[0m\u001B[1;33m\u001B[0m\u001B[0m\n\u001B[0m\u001B[0;32m    288\u001B[0m \u001B[1;33m\u001B[0m\u001B[0m\n\u001B[0;32m    289\u001B[0m     \u001B[1;32mdef\u001B[0m \u001B[0m__exit__\u001B[0m\u001B[1;33m(\u001B[0m\u001B[0mself\u001B[0m\u001B[1;33m,\u001B[0m \u001B[1;33m*\u001B[0m\u001B[0margs\u001B[0m\u001B[1;33m)\u001B[0m \u001B[1;33m->\u001B[0m \u001B[1;32mNone\u001B[0m\u001B[1;33m:\u001B[0m\u001B[1;33m\u001B[0m\u001B[1;33m\u001B[0m\u001B[0m\n",
      "\u001B[1;31mRuntimeError\u001B[0m: Parent directory checkpoints does not exist."
     ]
    }
   ],
   "source": [
    "\n",
    "from torch.utils.tensorboard import SummaryWriter\n",
    "from train import training_loop\n",
    "\n",
    "writer = SummaryWriter('runs/mnist/lenet300-100/%s' % TIMESTAMP)\n",
    "\n",
    "loss, train_acc, val_acc = training_loop(EPOCHS,net,optimizer,device,trainloader,testloader,loss_fn,100,\n",
    "                                         None,'checkpoints/mnist-lenet300-100.pth',writer)\n",
    "\n",
    "writer.add_hparams({'epochs':EPOCHS,'learning rate':LR,'lambda':LAMBDA,'momentum':MU},{'loss':np.array(loss).min(),'train_accuracy':np.array(train_acc).max(),'validation accuracy':np.array(val_acc).max(),'compression':1})\n",
    "writer.add_scalar('total parameters',count_nonzero_weights(net))"
   ],
   "metadata": {
    "collapsed": false
   }
  },
  {
   "cell_type": "code",
   "execution_count": null,
   "outputs": [],
   "source": [
    "# visualization loss\n",
    "plt.plot(loss)\n",
    "plt.xlabel(\"Number of iteration\")\n",
    "plt.ylabel(\"Loss\")\n",
    "plt.title(\"CNN: Loss vs Number of iteration\")\n",
    "plt.show()\n",
    "\n",
    "# visualization accuracy\n",
    "plt.plot(train_acc,color = \"red\")\n",
    "plt.plot(val_acc,color = \"blue\")\n",
    "plt.xlabel(\"Number of iteration\")\n",
    "plt.ylabel(\"Accuracy\")\n",
    "plt.title(\"CNN: Accuracy vs Number of iteration\")\n",
    "plt.show()"
   ],
   "metadata": {
    "collapsed": false
   }
  },
  {
   "cell_type": "code",
   "execution_count": null,
   "outputs": [],
   "source": [
    "from pruning import threshold_prune\n",
    "\n",
    "net = LeNet300(10)\n",
    "net.load_state_dict(torch.load('checkpoints/mnist-lenet300-100.pth'))\n",
    "\n",
    "cf = threshold_prune(net,S)\n",
    "\n",
    "writer = SummaryWriter('runs/mnist/lenet300-100-pruned/%s' % TIMESTAMP)\n",
    "\n",
    "writer.add_scalar('compression factor',cf)\n",
    "weight_histograms(writer,None,net)\n",
    "\n",
    "plot_sparsity_matrix(net)\n",
    "torch.save(net.state_dict(),'checkpoints/mnist-lenet300-100-pruned.pth')"
   ],
   "metadata": {
    "collapsed": false
   }
  },
  {
   "cell_type": "markdown",
   "source": [
    "We can see that the fc1 layer is divided in 28 vertical bands, whose width is 28, corresponding to the $28 \\times 28$ input pixel.\n",
    "As stated in [[2](#2)], network pruning detects visual attention regions: the colored regions, correspond to non-zero parameters, are more dense in the center of the image, since the digits are written in the center."
   ],
   "metadata": {
    "collapsed": false
   }
  },
  {
   "cell_type": "code",
   "execution_count": null,
   "outputs": [],
   "source": [
    "from train import evaluate\n",
    "\n",
    "net.load_state_dict(torch.load('checkpoints/mnist-lenet300-100-pruned.pth'))\n",
    "net.to(device)\n",
    "\n",
    "valid_acc, valid_loss = evaluate(net, testloader, device, loss_fn)\n",
    "\n",
    "print('Accuracy after pruning: %.3f%% | Loss: %.3f' % (\n",
    "        valid_acc, valid_loss))\n",
    "\n",
    "writer = SummaryWriter('runs/mnist/lenet300-100-retrained/%s' % TIMESTAMP)\n",
    "optimizer = optim.SGD(net.parameters(), lr=LR,momentum=MU,weight_decay=LAMBDA)\n",
    "\n",
    "\n",
    "loss, train_acc, val_acc = training_loop(EPOCHS,net,optimizer,device,trainloader,testloader,loss_fn,100,\n",
    "                                         None,'checkpoints/mnist-lenet300-100-retrained.pth',writer)\n",
    "\n",
    "writer.add_hparams({'epochs':EPOCHS,'learning rate':LR,'lambda':LAMBDA,'momentum':MU},{'loss':np.array(loss).min(),'train_accuracy':np.array(train_acc).max(),'validation accuracy':np.array(val_acc).max(),'compression':cf})\n",
    "\n",
    "torch.save(net.state_dict(),'checkpoints/mnist-lenet300-100-finetuned.pth')\n",
    "\n",
    "plot_sparsity_matrix(net)"
   ],
   "metadata": {
    "collapsed": false
   }
  },
  {
   "cell_type": "markdown",
   "source": [
    "# LeNet-5\n",
    "\n",
    "![Lenet5](./assets/lenet-5_1.jpg \"LeNet 5\")\n",
    "\n",
    "The input is a $32 \\times 32$ image, since [[2](#2)] found desirable to have distinctive features of each character in the center of the receptive field of the highest-level feature detectors.\n",
    "\n",
    "- C1 is a convolutional layer with 6 feature maps and a kernel of $5 \\times 5$.\n",
    "- S\n",
    "\n",
    "Images need to be rescaled to size 32x32 as described in LeCun et al. 1998"
   ],
   "metadata": {
    "collapsed": false
   }
  },
  {
   "cell_type": "markdown",
   "source": [],
   "metadata": {
    "collapsed": false
   }
  },
  {
   "cell_type": "code",
   "execution_count": null,
   "outputs": [],
   "source": [
    "transform = transforms.Compose(\n",
    "    [transforms.ToTensor(),\n",
    "     transforms.Normalize((0.5),(0.5)),\n",
    "     transforms.Resize(32)])\n",
    "# Load datasets\n",
    "trainloader,testloader = get_mnist_loader(transform,BATCH_SIZE)"
   ],
   "metadata": {
    "collapsed": false
   }
  },
  {
   "cell_type": "code",
   "execution_count": null,
   "outputs": [],
   "source": [
    "import matplotlib.pyplot as plt\n",
    "\n",
    "# get some random training images\n",
    "dataiter = iter(trainloader)\n",
    "images, labels = next(dataiter)\n",
    "print(images.shape, labels.shape)\n",
    "\n",
    "# show images\n",
    "imshow(torchvision.utils.make_grid(images[0:4]))\n",
    "# print labels\n",
    "print(' '.join(f'{labels[j]:1d}' for j in range(4)))"
   ],
   "metadata": {
    "collapsed": false
   }
  },
  {
   "cell_type": "code",
   "execution_count": null,
   "outputs": [],
   "source": [
    "from models.lenet import LeNet5\n",
    "\n",
    "net = LeNet5(10)\n",
    "# Try to get GPU device\n",
    "device = torch.device('cuda:0' if torch.cuda.is_available() else 'cpu')\n",
    "# Assuming that we are on a CUDA machine, this should print a CUDA device:\n",
    "print(device)\n",
    "net.to(device)"
   ],
   "metadata": {
    "collapsed": false
   }
  },
  {
   "cell_type": "code",
   "execution_count": null,
   "outputs": [],
   "source": [
    "from train import training_loop\n",
    "\n",
    "loss_fn = F.cross_entropy\n",
    "optimizer = optim.SGD(net.parameters(), lr=LR,momentum=MU,weight_decay=LAMBDA)\n",
    "\n",
    "lrs = MyMultiStepLR({0:5e-4,2:2e-4,5:1e-4,8:5e-5,12:1e-5})\n",
    "# scheduler = sched.LambdaLR(optimizer,  lrs.get_lr,last_epoch=-1,verbose=True)\n",
    "\n",
    "writer = SummaryWriter('runs/mnist/lenet-5/%s' % TIMESTAMP)\n",
    "\n",
    "loss, train_acc, val_acc = training_loop(EPOCHS,net,optimizer,device,trainloader,testloader,loss_fn,100,None\n",
    "                                         ,'checkpoints/mnist-lenet5.pth',writer)\n",
    "\n",
    "writer.add_hparams({'epochs':EPOCHS,'learning rate':LR,'lambda':LAMBDA,'momentum':MU},{'loss':np.array(loss).min(),'train_accuracy':np.array(train_acc).max(),'validation accuracy':np.array(val_acc).max(),'compression':1})\n",
    "\n",
    "writer.add_scalar('total parameters',count_nonzero_weights(net))"
   ],
   "metadata": {
    "collapsed": false
   }
  },
  {
   "cell_type": "code",
   "execution_count": null,
   "outputs": [],
   "source": [
    "# visualization loss\n",
    "plt.plot(loss)\n",
    "plt.xlabel(\"Number of iteration\")\n",
    "plt.ylabel(\"Loss\")\n",
    "plt.title(\"CNN: Loss vs Number of iteration\")\n",
    "plt.show()\n",
    "\n",
    "# visualization accuracy\n",
    "plt.plot(train_acc,color = \"red\")\n",
    "plt.plot(val_acc,color = \"blue\")\n",
    "plt.xlabel(\"Number of iteration\")\n",
    "plt.ylabel(\"Accuracy\")\n",
    "plt.title(\"CNN: Accuracy vs Number of iteration\")\n",
    "plt.show()"
   ],
   "metadata": {
    "collapsed": false
   }
  },
  {
   "cell_type": "code",
   "execution_count": null,
   "outputs": [],
   "source": [
    "net = LeNet5(10)\n",
    "net.load_state_dict(torch.load('checkpoints/mnist-lenet5.pth'))\n",
    "net.to(device)\n",
    "\n",
    "cf = threshold_prune(net,S)\n",
    "\n",
    "writer = SummaryWriter('runs/mnist/lenet5-pruned/%s' % TIMESTAMP)\n",
    "\n",
    "writer.add_scalar('compression factor',cf)\n",
    "weight_histograms(writer,None,net)\n",
    "torch.save(net.state_dict(),'checkpoints/mnist-lenet5-pruned.pth')\n",
    "\n",
    "valid_acc, valid_loss = evaluate(net, testloader, device, loss_fn)\n",
    "\n",
    "print('Accuracy after pruning: %.3f%% | Loss: %.3f' % (\n",
    "        valid_acc, valid_loss))\n",
    "\n",
    "optimizer = optim.SGD(net.parameters(), lr=LR,momentum=MU,weight_decay=LAMBDA)\n",
    "writer = SummaryWriter('runs/mnist/lenet5-retrained/%s' % TIMESTAMP)\n",
    "\n",
    "loss, train_acc, val_acc = training_loop(EPOCHS,net,optimizer,device,trainloader,testloader,loss_fn,100,\n",
    "                                         None,'checkpoints/mnist-lenet5-retrained.pth',writer)\n",
    "\n",
    "torch.save(net.state_dict(),'checkpoints/mnist-lenet5-finetuned.pth')\n",
    "\n",
    "writer.add_hparams({'epochs':EPOCHS,'learning rate':LR,'lambda':LAMBDA,'momentum':MU},{'loss':np.array(loss).min(),'train_accuracy':np.array(train_acc).max(),'validation accuracy':np.array(val_acc).max(),'compression':cf})"
   ],
   "metadata": {
    "collapsed": false
   }
  },
  {
   "cell_type": "code",
   "execution_count": null,
   "outputs": [],
   "source": [
    "weight_histograms(writer,None,net)"
   ],
   "metadata": {
    "collapsed": false
   }
  },
  {
   "cell_type": "code",
   "execution_count": null,
   "outputs": [],
   "source": [
    "\n",
    "# can duplicate parameters if shared\n",
    "from models.lenet import LeNet300\n",
    "import torch\n",
    "import os\n",
    "\n",
    "from quantization import quantize\n",
    "from pruning import threshold_prune,apply_prune\n",
    "\n",
    "os.environ[\"OMP_NUM_THREADS\"] = '1'\n",
    "\n",
    "net = LeNet300(10)\n",
    "net.load_state_dict(torch.load('checkpoints/mnist-lenet300-100.pth'))\n",
    "\n",
    "threshold_prune(net,2)\n",
    "apply_prune(net)\n",
    "\n",
    "quantize(net,5)\n"
   ],
   "metadata": {
    "collapsed": false
   }
  },
  {
   "cell_type": "markdown",
   "source": [
    "# References\n",
    "<a id=\"1\">[1]</a> LeCun, Yann, et al. \"Gradient-based learning applied to document recognition.\" Proceedings of the IEEE 86.11 (1998): 2278-2324.\n",
    "<a id=\"2\">[2]</a> Han, Song, et al. \"Learning both weights and connections for efficient neural network.\" Advances in neural information processing systems 28 (2015)."
   ],
   "metadata": {
    "collapsed": false
   }
  }
 ],
 "metadata": {
  "kernelspec": {
   "display_name": "Python 3",
   "language": "python",
   "name": "python3"
  },
  "language_info": {
   "codemirror_mode": {
    "name": "ipython",
    "version": 2
   },
   "file_extension": ".py",
   "mimetype": "text/x-python",
   "name": "python",
   "nbconvert_exporter": "python",
   "pygments_lexer": "ipython2",
   "version": "2.7.6"
  }
 },
 "nbformat": 4,
 "nbformat_minor": 0
}
